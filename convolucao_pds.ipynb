{
  "nbformat": 4,
  "nbformat_minor": 0,
  "metadata": {
    "colab": {
      "name": "convolucao_pds.ipynb",
      "provenance": [],
      "collapsed_sections": [],
      "authorship_tag": "ABX9TyPY+XzdjO/wds6a1uPNnxLN",
      "include_colab_link": true
    },
    "kernelspec": {
      "name": "python3",
      "display_name": "Python 3"
    },
    "language_info": {
      "name": "python"
    }
  },
  "cells": [
    {
      "cell_type": "markdown",
      "metadata": {
        "id": "view-in-github",
        "colab_type": "text"
      },
      "source": [
        "<a href=\"https://colab.research.google.com/github/ChristianBrener/cov_python/blob/main/convolucao_pds.ipynb\" target=\"_parent\"><img src=\"https://colab.research.google.com/assets/colab-badge.svg\" alt=\"Open In Colab\"/></a>"
      ]
    },
    {
      "cell_type": "code",
      "metadata": {
        "id": "IHFv8AThZA8G"
      },
      "source": [
        "import matplotlib.pyplot as plt\n",
        "import numpy as np\n"
      ],
      "execution_count": null,
      "outputs": []
    },
    {
      "cell_type": "code",
      "metadata": {
        "id": "rn5Y9F_pLGZK"
      },
      "source": [
        "xn = input('Entre com a primeira sequencia x1: ').split(\" \");\n",
        "t1 = input('Origem da sequencia x1: ');\n",
        "hn = input('Entre com a primeira sequencia h1: ').split(\" \");\n",
        "t2 = input('Origem da sequencia h1: ');\n",
        "# convertendo a string em int\n",
        "t1 = int(t1)\n",
        "t2 = int(t2)\n",
        "xn = [int(i) for i in xn]\n",
        "hn = [int(i) for i in hn]"
      ],
      "execution_count": null,
      "outputs": []
    },
    {
      "cell_type": "code",
      "metadata": {
        "id": "BsTV5qNlMM7t"
      },
      "source": [
        "# Usando a fromula de convolucao\n",
        "M = len(xn) + len(hn) - 1\n",
        "tn = t1+t2\n",
        "x = range(tn,M + tn)\n",
        "y = [0]*M\n",
        "for k in range(len(xn)):\n",
        "  for n in range(len(hn)):    \n",
        "    y[n+k] += xn[k] * hn[n]\n",
        "#Plot\n",
        "a = range(t1,len(xn)+t1)\n",
        "plt.stem(a,xn, use_line_collection = True)\n",
        "plt.ylabel('Amplitude')\n",
        "plt.xlabel('Tempo')\n",
        "plt.title('X[n]')\n",
        "plt.show()\n",
        "a = range(t2,len(hn)+t2)\n",
        "plt.stem(a, hn, use_line_collection = True)\n",
        "plt.ylabel('Amplitude')\n",
        "plt.xlabel('Tempo')\n",
        "plt.title('H[n]')\n",
        "plt.show()\n",
        "plt.stem(x, y, use_line_collection = True)\n",
        "plt.ylabel('Amplitude')\n",
        "plt.xlabel('Tempo')\n",
        "plt.title('Convolução')\n",
        "plt.show()"
      ],
      "execution_count": null,
      "outputs": []
    }
  ]
}